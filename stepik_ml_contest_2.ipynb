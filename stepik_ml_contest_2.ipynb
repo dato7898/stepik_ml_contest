{
 "cells": [
  {
   "cell_type": "code",
   "execution_count": 59,
   "source": [
    "import pandas as pd\r\n",
    "import numpy as np\r\n",
    "\r\n",
    "%matplotlib inline\r\n",
    "import matplotlib.pyplot as plt\r\n",
    "import seaborn as sns\r\n",
    "sns.set(rc={'figure.figsize': (9, 6)})"
   ],
   "outputs": [],
   "metadata": {}
  },
  {
   "cell_type": "code",
   "execution_count": 60,
   "source": [
    "events_data = pd.read_csv('event_data_train.zip')\r\n",
    "submissions_data = pd.read_csv('submissions_data_train.zip')\r\n",
    "events_data['date'] = pd.to_datetime(events_data.timestamp, unit='s')\r\n",
    "events_data['day'] = events_data.date.dt.date\r\n",
    "submissions_data['date'] = pd.to_datetime(submissions_data.timestamp, unit='s')\r\n",
    "submissions_data['day'] = submissions_data.date.dt.date\r\n",
    "users_events_data = events_data.pivot_table(index='user_id', \r\n",
    "                        columns='action', \r\n",
    "                        values='step_id', \r\n",
    "                        aggfunc='count', \r\n",
    "                        fill_value=0).reset_index()\r\n",
    "users_scores = submissions_data.pivot_table(index='user_id', \r\n",
    "                        columns='submission_status', \r\n",
    "                        values='step_id', \r\n",
    "                        aggfunc='count', \r\n",
    "                        fill_value=0).reset_index()"
   ],
   "outputs": [],
   "metadata": {}
  },
  {
   "cell_type": "code",
   "execution_count": 61,
   "source": [
    "now = 1526772811\r\n",
    "drop_out_threshold = 2592000\r\n",
    "gap_data = events_data[['user_id', 'day', 'timestamp']].drop_duplicates(subset=['user_id', 'day']) \\\r\n",
    "    .groupby('user_id')['timestamp'].apply(list) \\\r\n",
    "    .apply(np.diff).values\r\n",
    "gap_data = pd.Series(np.concatenate(gap_data, axis=0))\r\n",
    "gap_data = gap_data / (24 * 60 * 60)\r\n",
    "users_data = events_data.groupby('user_id', as_index=False) \\\r\n",
    "    .agg({'timestamp': 'max'}).rename(columns={'timestamp': 'last_timestamp'})\r\n",
    "users_data['is_gone_user'] = (now - users_data.last_timestamp) > drop_out_threshold\r\n",
    "users_data = users_data.merge(users_scores, how='outer').fillna(0)\r\n",
    "users_data = users_data.merge(users_events_data, how='outer')\r\n",
    "users_days = events_data.groupby('user_id').day.nunique().to_frame().reset_index()\r\n",
    "users_data = users_data.merge(users_days, how='outer')\r\n",
    "users_data['passed_corse'] = users_data.passed > 40 # Мы будем считать, что пользователь успешно закончил курс, если он правильно решил больше 40 практических заданий."
   ],
   "outputs": [],
   "metadata": {}
  },
  {
   "cell_type": "code",
   "execution_count": 62,
   "source": [
    "# Используя данные о первых двух днях активности на курсе вам нужно предсказать, наберет ли пользователь более 40 баллов на курсе или нет.\r\n",
    "learning_time_threshold = 2 * 24 * 60 * 60\r\n",
    "user_min_time = events_data.groupby('user_id', as_index=False) \\\r\n",
    "    .agg({'timestamp': 'min'}) \\\r\n",
    "    .rename(columns={'timestamp': 'min_timestamp'})\r\n",
    "users_data = users_data.merge(user_min_time, how='outer')\r\n",
    "events_data['user_time'] = events_data.user_id.map(str) + '_' + events_data.timestamp.map(str)\r\n",
    "user_learning_time_threshold = user_min_time.user_id.map(str) + '_' + (user_min_time.min_timestamp + learning_time_threshold).map(str)\r\n",
    "user_min_time['user_learning_time_threshold'] = user_learning_time_threshold\r\n",
    "events_data = events_data.merge(user_min_time[['user_id', 'user_learning_time_threshold']], how='outer')\r\n",
    "events_data_train = events_data[events_data.user_time <= events_data.user_learning_time_threshold]\r\n",
    "\r\n",
    "submissions_data['user_time'] = submissions_data.user_id.map(str) + '_' + submissions_data.timestamp.map(str)\r\n",
    "submissions_data = submissions_data.merge(user_min_time[['user_id', 'user_learning_time_threshold']], how='outer')\r\n",
    "submissions_data_train = submissions_data[submissions_data.user_time <= submissions_data.user_learning_time_threshold]"
   ],
   "outputs": [],
   "metadata": {}
  },
  {
   "cell_type": "code",
   "execution_count": 63,
   "source": [
    "X = submissions_data_train.groupby('user_id').day.nunique().to_frame().reset_index() \\\r\n",
    "    .rename(columns={'day': 'days'})\r\n",
    "steps_tried = submissions_data_train.groupby('user_id').step_id.nunique().to_frame().reset_index() \\\r\n",
    "    .rename(columns={'step_id': 'steps_tried'})\r\n",
    "X = X.merge(steps_tried, on='user_id', how='outer')\r\n",
    "X = X.merge(submissions_data_train.pivot_table(index='user_id',\r\n",
    "                        columns='submission_status',\r\n",
    "                        values='step_id',\r\n",
    "                        aggfunc='count',\r\n",
    "                        fill_value=0).reset_index())\r\n",
    "X['correct_ratio'] = X.correct / (X.correct + X.wrong)\r\n",
    "X = X.merge(events_data_train.pivot_table(index='user_id',\r\n",
    "                        columns='action',\r\n",
    "                        values='step_id',\r\n",
    "                        aggfunc='count',\r\n",
    "                        fill_value=0).reset_index()[['user_id', 'viewed']], how='outer')\r\n",
    "X = X.fillna(0)\r\n",
    "X = X.merge(users_data[['user_id', 'passed_corse', 'is_gone_user']], how='outer')\r\n",
    "X = X[~((X.is_gone_user == False) & (X.passed_corse == False))]"
   ],
   "outputs": [],
   "metadata": {}
  },
  {
   "cell_type": "code",
   "execution_count": 64,
   "source": [
    "y = X.passed_corse.map(int)\r\n",
    "X = X.drop(['passed_corse', 'is_gone_user'], axis=1)\r\n",
    "X = X.set_index(X.user_id)\r\n",
    "X = X.drop('user_id', axis=1)"
   ],
   "outputs": [],
   "metadata": {}
  },
  {
   "cell_type": "code",
   "execution_count": 68,
   "source": [
    "from sklearn.ensemble import RandomForestClassifier\r\n",
    "rf = RandomForestClassifier()\r\n",
    "rf.fit(X, y)"
   ],
   "outputs": [
    {
     "output_type": "execute_result",
     "data": {
      "text/plain": [
       "RandomForestClassifier()"
      ]
     },
     "metadata": {},
     "execution_count": 68
    }
   ],
   "metadata": {}
  },
  {
   "cell_type": "code",
   "execution_count": 98,
   "source": [
    "events_data_test = pd.read_csv('https://stepik.org/media/attachments/course/4852/events_data_test.csv')\r\n",
    "submissions_data_test = pd.read_csv('https://stepik.org/media/attachments/course/4852/submission_data_test.csv')\r\n",
    "events_data_test['date'] = pd.to_datetime(events_data_test.timestamp, unit='s')\r\n",
    "events_data_test['day'] = events_data_test.date.dt.date\r\n",
    "submissions_data_test['date'] = pd.to_datetime(submissions_data_test.timestamp, unit='s')\r\n",
    "submissions_data_test['day'] = submissions_data_test.date.dt.date\r\n",
    "users_events_data_test = events_data_test.pivot_table(index='user_id', \r\n",
    "                        columns='action', \r\n",
    "                        values='step_id', \r\n",
    "                        aggfunc='count', \r\n",
    "                        fill_value=0).reset_index()\r\n",
    "users_scores_test = submissions_data_test.pivot_table(index='user_id', \r\n",
    "                        columns='submission_status', \r\n",
    "                        values='step_id', \r\n",
    "                        aggfunc='count', \r\n",
    "                        fill_value=0).reset_index()\r\n",
    "X_test = submissions_data_test.groupby('user_id').day.nunique().to_frame().reset_index() \\\r\n",
    "    .rename(columns={'day': 'days'})\r\n",
    "steps_tried_test = submissions_data_test.groupby('user_id').step_id.nunique().to_frame().reset_index() \\\r\n",
    "    .rename(columns={'step_id': 'steps_tried'})\r\n",
    "X_test = X_test.merge(steps_tried_test, on='user_id', how='outer')\r\n",
    "X_test = X_test.merge(submissions_data_test.pivot_table(index='user_id',\r\n",
    "                        columns='submission_status',\r\n",
    "                        values='step_id',\r\n",
    "                        aggfunc='count',\r\n",
    "                        fill_value=0).reset_index())\r\n",
    "X_test['correct_ratio'] = X_test.correct / (X_test.correct + X_test.wrong)\r\n",
    "X_test = X_test.merge(events_data_test.pivot_table(index='user_id',\r\n",
    "                        columns='action',\r\n",
    "                        values='step_id',\r\n",
    "                        aggfunc='count',\r\n",
    "                        fill_value=0).reset_index()[['user_id', 'viewed']], how='outer')\r\n",
    "X_test = X_test.fillna(0)\r\n",
    "X_test = X_test.set_index(X_test.user_id)\r\n",
    "X_test = X_test.drop('user_id', axis=1)"
   ],
   "outputs": [],
   "metadata": {}
  },
  {
   "cell_type": "code",
   "execution_count": 99,
   "source": [
    "predict_proba = rf.predict_proba(X_test)\r\n",
    "result = X_test.reset_index()\r\n",
    "result = result['user_id'].to_frame()\r\n",
    "result['is_gone'] = predict_proba[:, 1]\r\n",
    "result[['user_id', 'is_gone']].to_csv(f'my_predict.csv', index=False)"
   ],
   "outputs": [],
   "metadata": {}
  },
  {
   "cell_type": "code",
   "execution_count": null,
   "source": [
    "# Your ROC score is 0.846676785884974"
   ],
   "outputs": [],
   "metadata": {}
  }
 ],
 "metadata": {
  "orig_nbformat": 4,
  "language_info": {
   "name": "python",
   "version": "3.8.8",
   "mimetype": "text/x-python",
   "codemirror_mode": {
    "name": "ipython",
    "version": 3
   },
   "pygments_lexer": "ipython3",
   "nbconvert_exporter": "python",
   "file_extension": ".py"
  },
  "kernelspec": {
   "name": "python3",
   "display_name": "Python 3.8.8 64-bit ('base': conda)"
  },
  "interpreter": {
   "hash": "b3ba2566441a7c06988d0923437866b63cedc61552a5af99d1f4fb67d367b25f"
  }
 },
 "nbformat": 4,
 "nbformat_minor": 2
}